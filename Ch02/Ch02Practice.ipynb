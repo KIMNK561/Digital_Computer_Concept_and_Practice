{
 "cells": [
  {
   "cell_type": "markdown",
   "id": "e3a3bb08-570f-43d3-9187-ee41e228b6c7",
   "metadata": {},
   "source": [
    "#2.11"
   ]
  },
  {
   "cell_type": "code",
   "execution_count": 1,
   "id": "351ff152-7148-4c92-96eb-e03f8ac79247",
   "metadata": {},
   "outputs": [
    {
     "data": {
      "text/plain": [
       "-28"
      ]
     },
     "execution_count": 1,
     "metadata": {},
     "output_type": "execute_result"
    }
   ],
   "source": [
    "-7-6-5-4-3-2-1"
   ]
  },
  {
   "cell_type": "code",
   "execution_count": 2,
   "id": "1167b2f5-b73e-49e2-9e17-a8ed095d6e8f",
   "metadata": {},
   "outputs": [
    {
     "data": {
      "text/plain": [
       "10.651685393258427"
      ]
     },
     "execution_count": 2,
     "metadata": {},
     "output_type": "execute_result"
    }
   ],
   "source": [
    "(17*9+24*10+21*11+27*12)/(17+24+21+27)"
   ]
  },
  {
   "cell_type": "code",
   "execution_count": 3,
   "id": "9784d65a-32ef-4d04-888e-5e9c21829f9d",
   "metadata": {},
   "outputs": [
    {
     "data": {
      "text/plain": [
       "9.5367431640625e-07"
      ]
     },
     "execution_count": 3,
     "metadata": {},
     "output_type": "execute_result"
    }
   ],
   "source": [
    "2**-20"
   ]
  },
  {
   "cell_type": "code",
   "execution_count": 5,
   "id": "d77fa69d-981f-44c6-a43d-8c32315e874b",
   "metadata": {},
   "outputs": [
    {
     "data": {
      "text/plain": [
       "71"
      ]
     },
     "execution_count": 5,
     "metadata": {},
     "output_type": "execute_result"
    }
   ],
   "source": [
    "4356//61"
   ]
  },
  {
   "cell_type": "code",
   "execution_count": 6,
   "id": "9e20ce47-7a6b-41ae-afc5-5799279b3183",
   "metadata": {},
   "outputs": [
    {
     "data": {
      "text/plain": [
       "25"
      ]
     },
     "execution_count": 6,
     "metadata": {},
     "output_type": "execute_result"
    }
   ],
   "source": [
    "4356%61"
   ]
  },
  {
   "cell_type": "markdown",
   "id": "65a28035-6cb9-496f-9c01-1e91a2dfcf4b",
   "metadata": {},
   "source": [
    "#2.12"
   ]
  },
  {
   "cell_type": "code",
   "execution_count": 12,
   "id": "22cf04c6-02ca-49f0-9738-d7c64d107414",
   "metadata": {},
   "outputs": [
    {
     "data": {
      "text/plain": [
       "'-+'"
      ]
     },
     "execution_count": 12,
     "metadata": {},
     "output_type": "execute_result"
    }
   ],
   "source": [
    "s1='-'\n",
    "s2='+'\n",
    "s1+s2"
   ]
  },
  {
   "cell_type": "code",
   "execution_count": 13,
   "id": "c466e049-e0f0-4090-9497-900bea68df89",
   "metadata": {},
   "outputs": [
    {
     "data": {
      "text/plain": [
       "'-+-'"
      ]
     },
     "execution_count": 13,
     "metadata": {},
     "output_type": "execute_result"
    }
   ],
   "source": [
    "s1+s2+s1"
   ]
  },
  {
   "cell_type": "code",
   "execution_count": 15,
   "id": "17e7f1c9-bbf8-4d44-bd0a-b6c153b613b8",
   "metadata": {},
   "outputs": [
    {
     "data": {
      "text/plain": [
       "'+--'"
      ]
     },
     "execution_count": 15,
     "metadata": {},
     "output_type": "execute_result"
    }
   ],
   "source": [
    "s2+s1*2"
   ]
  },
  {
   "cell_type": "code",
   "execution_count": 16,
   "id": "0ae0282c-97c3-47b1-9a90-3d43d5fcbcf5",
   "metadata": {},
   "outputs": [
    {
     "data": {
      "text/plain": [
       "'+--+--'"
      ]
     },
     "execution_count": 16,
     "metadata": {},
     "output_type": "execute_result"
    }
   ],
   "source": [
    "(s2+s1*2)*2"
   ]
  },
  {
   "cell_type": "code",
   "execution_count": 17,
   "id": "e8a967f7-21ca-4ee6-b964-e93b1a94158d",
   "metadata": {},
   "outputs": [
    {
     "data": {
      "text/plain": [
       "'+--+--+--+--+--+--+--+--+--+--+'"
      ]
     },
     "execution_count": 17,
     "metadata": {},
     "output_type": "execute_result"
    }
   ],
   "source": [
    "s2+(s1*2+s2)*10"
   ]
  },
  {
   "cell_type": "code",
   "execution_count": 18,
   "id": "2bf9eb66-552d-46d2-9a08-0eba8edfcd37",
   "metadata": {},
   "outputs": [
    {
     "data": {
      "text/plain": [
       "'+-+++--+-+++--+-+++--+-+++--+-+++--'"
      ]
     },
     "execution_count": 18,
     "metadata": {},
     "output_type": "execute_result"
    }
   ],
   "source": [
    "(s2+s1+s2*3+s1*2)*5"
   ]
  },
  {
   "cell_type": "code",
   "execution_count": 19,
   "id": "f2ccc9a2-be29-48df-bbe6-dcd0a8ffd1da",
   "metadata": {},
   "outputs": [],
   "source": [
    "#2.13"
   ]
  },
  {
   "cell_type": "code",
   "execution_count": 2,
   "id": "41c09ddf-c1a0-4d62-9cb8-2f43ca1f6021",
   "metadata": {},
   "outputs": [],
   "source": [
    "s='abcdefghijklmnopqrstuvwxyz'"
   ]
  },
  {
   "cell_type": "code",
   "execution_count": 21,
   "id": "4e335380-62c6-47c5-bed1-b9e440ab7c62",
   "metadata": {},
   "outputs": [
    {
     "data": {
      "text/plain": [
       "'a'"
      ]
     },
     "execution_count": 21,
     "metadata": {},
     "output_type": "execute_result"
    }
   ],
   "source": [
    "min(s)"
   ]
  },
  {
   "cell_type": "code",
   "execution_count": 23,
   "id": "87ee7277-c8e0-4206-8e1c-f736a38e75e3",
   "metadata": {},
   "outputs": [
    {
     "data": {
      "text/plain": [
       "'c'"
      ]
     },
     "execution_count": 23,
     "metadata": {},
     "output_type": "execute_result"
    }
   ],
   "source": [
    "s[2]"
   ]
  },
  {
   "cell_type": "code",
   "execution_count": 24,
   "id": "294a635a-3491-4f23-a8ea-c3648505e385",
   "metadata": {},
   "outputs": [
    {
     "data": {
      "text/plain": [
       "'z'"
      ]
     },
     "execution_count": 24,
     "metadata": {},
     "output_type": "execute_result"
    }
   ],
   "source": [
    "max(s)"
   ]
  },
  {
   "cell_type": "code",
   "execution_count": 26,
   "id": "e9704e8f-a168-47cc-b40e-01106f166244",
   "metadata": {},
   "outputs": [
    {
     "data": {
      "text/plain": [
       "'y'"
      ]
     },
     "execution_count": 26,
     "metadata": {},
     "output_type": "execute_result"
    }
   ],
   "source": [
    "s[len(s)-2]"
   ]
  },
  {
   "cell_type": "code",
   "execution_count": 4,
   "id": "f4c615be-853f-4118-8d3d-23b8f64685f4",
   "metadata": {},
   "outputs": [
    {
     "data": {
      "text/plain": [
       "'q'"
      ]
     },
     "execution_count": 4,
     "metadata": {},
     "output_type": "execute_result"
    }
   ],
   "source": [
    "s[s.index('q')]"
   ]
  },
  {
   "cell_type": "markdown",
   "id": "2f653fe1-f817-4d4d-9a14-551aacef4e9b",
   "metadata": {},
   "source": [
    "#2.14"
   ]
  },
  {
   "cell_type": "code",
   "execution_count": 5,
   "id": "9786f329-6927-4d6d-ba01-d230552287da",
   "metadata": {},
   "outputs": [],
   "source": [
    "s='goodbye'"
   ]
  },
  {
   "cell_type": "code",
   "execution_count": 6,
   "id": "ed84dfe6-29f9-4d4e-889f-4e84bec84a9b",
   "metadata": {},
   "outputs": [
    {
     "data": {
      "text/plain": [
       "True"
      ]
     },
     "execution_count": 6,
     "metadata": {},
     "output_type": "execute_result"
    }
   ],
   "source": [
    "s[0]=='g'"
   ]
  },
  {
   "cell_type": "code",
   "execution_count": 7,
   "id": "ada96b54-78b3-42e5-9f84-9bde121af198",
   "metadata": {},
   "outputs": [
    {
     "data": {
      "text/plain": [
       "False"
      ]
     },
     "execution_count": 7,
     "metadata": {},
     "output_type": "execute_result"
    }
   ],
   "source": [
    "s[6]=='g'"
   ]
  },
  {
   "cell_type": "code",
   "execution_count": 30,
   "id": "ac33ad44-6db8-49a2-93d6-00588745e0db",
   "metadata": {},
   "outputs": [
    {
     "data": {
      "text/plain": [
       "False"
      ]
     },
     "execution_count": 30,
     "metadata": {},
     "output_type": "execute_result"
    }
   ],
   "source": [
    "s[0:2]=='ga'"
   ]
  },
  {
   "cell_type": "code",
   "execution_count": 10,
   "id": "ee057656-927d-43cd-b21a-ed7366335b83",
   "metadata": {},
   "outputs": [
    {
     "data": {
      "text/plain": [
       "False"
      ]
     },
     "execution_count": 10,
     "metadata": {},
     "output_type": "execute_result"
    }
   ],
   "source": [
    "s[len(s)-1]=='x'"
   ]
  },
  {
   "cell_type": "code",
   "execution_count": 21,
   "id": "5ff8c952-e4a1-436d-8738-76215bbfd14f",
   "metadata": {},
   "outputs": [
    {
     "data": {
      "text/plain": [
       "True"
      ]
     },
     "execution_count": 21,
     "metadata": {},
     "output_type": "execute_result"
    }
   ],
   "source": [
    "s[3]=='d'"
   ]
  },
  {
   "cell_type": "code",
   "execution_count": 22,
   "id": "f0e87a4b-be17-41f9-b506-9472186d65b2",
   "metadata": {},
   "outputs": [
    {
     "data": {
      "text/plain": [
       "False"
      ]
     },
     "execution_count": 22,
     "metadata": {},
     "output_type": "execute_result"
    }
   ],
   "source": [
    "s[0]==s[6]"
   ]
  },
  {
   "cell_type": "code",
   "execution_count": 31,
   "id": "3ec7e178-3936-43e9-9773-3d996f4a20a3",
   "metadata": {},
   "outputs": [
    {
     "data": {
      "text/plain": [
       "False"
      ]
     },
     "execution_count": 31,
     "metadata": {},
     "output_type": "execute_result"
    }
   ],
   "source": [
    "s[-4:]=='tion'"
   ]
  },
  {
   "cell_type": "markdown",
   "id": "2db61ed7-48f2-45fc-b48f-8b2f46a50735",
   "metadata": {},
   "source": [
    "#2.15"
   ]
  },
  {
   "cell_type": "code",
   "execution_count": 33,
   "id": "42823c0a-faf5-4429-a5a3-fe5a493480d7",
   "metadata": {},
   "outputs": [
    {
     "data": {
      "text/plain": [
       "True"
      ]
     },
     "execution_count": 33,
     "metadata": {},
     "output_type": "execute_result"
    }
   ],
   "source": [
    "s1='anachronistically'\n",
    "s2='counterintuitive'\n",
    "len(s1)==len(s2)+1"
   ]
  },
  {
   "cell_type": "code",
   "execution_count": 38,
   "id": "c3a332c4-ad48-496e-931c-7cef12296f1f",
   "metadata": {},
   "outputs": [
    {
     "data": {
      "text/plain": [
       "True"
      ]
     },
     "execution_count": 38,
     "metadata": {},
     "output_type": "execute_result"
    }
   ],
   "source": [
    "s1='misinterpretation'\n",
    "s2='misrepresentation'\n",
    "s1<s2"
   ]
  },
  {
   "cell_type": "code",
   "execution_count": 44,
   "id": "e6a08f63-6f35-4a6c-a8a6-91a6a1e996d6",
   "metadata": {},
   "outputs": [
    {
     "data": {
      "text/plain": [
       "True"
      ]
     },
     "execution_count": 44,
     "metadata": {},
     "output_type": "execute_result"
    }
   ],
   "source": [
    "s1='floccinaucinihilipilification.'\n",
    "\"e\" not in s1"
   ]
  },
  {
   "cell_type": "code",
   "execution_count": 43,
   "id": "36dfcc73-30be-4b8b-87c2-24f4b68797f2",
   "metadata": {},
   "outputs": [
    {
     "data": {
      "text/plain": [
       "True"
      ]
     },
     "execution_count": 43,
     "metadata": {},
     "output_type": "execute_result"
    }
   ],
   "source": [
    "s1='counterrevolution'\n",
    "s2='counter'\n",
    "s3='resolution'\n",
    "len(s1)==len(s2+s3)"
   ]
  },
  {
   "cell_type": "markdown",
   "id": "2bde1daa-d269-4c9f-9cf2-b33c008f1dc6",
   "metadata": {},
   "source": [
    "#2.16"
   ]
  },
  {
   "cell_type": "code",
   "execution_count": 45,
   "id": "7df9264a-f7cb-488f-85fd-c83986488811",
   "metadata": {},
   "outputs": [],
   "source": [
    "a=6\n",
    "b=7"
   ]
  },
  {
   "cell_type": "code",
   "execution_count": 46,
   "id": "a709dbae-1261-4e3b-a345-d101f938a684",
   "metadata": {},
   "outputs": [],
   "source": [
    "c=(a+b)/2"
   ]
  },
  {
   "cell_type": "code",
   "execution_count": 48,
   "id": "df04e85b-2b1c-44b7-bd03-fd7a3b55f3c6",
   "metadata": {},
   "outputs": [],
   "source": [
    "inventory=['paper', 'staples', 'pencils']"
   ]
  },
  {
   "cell_type": "code",
   "execution_count": 50,
   "id": "36c88f1f-82a6-4613-b8bc-cca1897c05c0",
   "metadata": {},
   "outputs": [],
   "source": [
    "first='John'\n",
    "middle='Fitzgerald'\n",
    "last='Kennedy'"
   ]
  },
  {
   "cell_type": "code",
   "execution_count": 51,
   "id": "959edbc1-f7a9-413a-8cd0-f04af393489b",
   "metadata": {},
   "outputs": [],
   "source": [
    "fullname=first+' '+middle+' '+last"
   ]
  },
  {
   "cell_type": "markdown",
   "id": "8edbc957-0b78-42ec-9bbb-25581caaf814",
   "metadata": {},
   "source": [
    "#2.17"
   ]
  },
  {
   "cell_type": "code",
   "execution_count": 54,
   "id": "4bd9bce3-19e0-425a-92ef-89ce7ef5013a",
   "metadata": {},
   "outputs": [
    {
     "data": {
      "text/plain": [
       "True"
      ]
     },
     "execution_count": 54,
     "metadata": {},
     "output_type": "execute_result"
    }
   ],
   "source": [
    "17-9<10"
   ]
  },
  {
   "cell_type": "code",
   "execution_count": 57,
   "id": "43040ab8-b282-46df-8c23-80cd81c564d9",
   "metadata": {},
   "outputs": [
    {
     "data": {
      "text/plain": [
       "False"
      ]
     },
     "execution_count": 57,
     "metadata": {},
     "output_type": "execute_result"
    }
   ],
   "source": [
    "len(inventory)>5*len(fullname)"
   ]
  },
  {
   "cell_type": "code",
   "execution_count": 58,
   "id": "363a11cd-b77d-44db-817f-e02bf9e7526c",
   "metadata": {},
   "outputs": [
    {
     "data": {
      "text/plain": [
       "True"
      ]
     },
     "execution_count": 58,
     "metadata": {},
     "output_type": "execute_result"
    }
   ],
   "source": [
    "c<=24"
   ]
  },
  {
   "cell_type": "code",
   "execution_count": 61,
   "id": "5a154407-2a1f-4b55-a456-eb9a99ac1ac8",
   "metadata": {},
   "outputs": [
    {
     "data": {
      "text/plain": [
       "True"
      ]
     },
     "execution_count": 61,
     "metadata": {},
     "output_type": "execute_result"
    }
   ],
   "source": [
    "a<6.75<b"
   ]
  },
  {
   "cell_type": "code",
   "execution_count": 62,
   "id": "5df23a8c-edf1-4246-923d-5259d199aa09",
   "metadata": {},
   "outputs": [
    {
     "data": {
      "text/plain": [
       "False"
      ]
     },
     "execution_count": 62,
     "metadata": {},
     "output_type": "execute_result"
    }
   ],
   "source": [
    "len(first)<len(middle)<len(last)"
   ]
  },
  {
   "cell_type": "code",
   "execution_count": 63,
   "id": "09f40508-1a14-49f5-ba76-0ae528ceb5b6",
   "metadata": {},
   "outputs": [
    {
     "data": {
      "text/plain": [
       "False"
      ]
     },
     "execution_count": 63,
     "metadata": {},
     "output_type": "execute_result"
    }
   ],
   "source": [
    "len(inventory)==0 or len(inventory)>10"
   ]
  },
  {
   "cell_type": "markdown",
   "id": "cd6b4f09-8ba3-4ce8-bfbc-ea397864649c",
   "metadata": {},
   "source": [
    "#2.18"
   ]
  },
  {
   "cell_type": "code",
   "execution_count": 2,
   "id": "490a0a8c-33f7-432d-85d8-7e3fc3344058",
   "metadata": {},
   "outputs": [],
   "source": [
    "flowers=['rose','bougainvillea','yucca','marigold','daylilly','lilly of the valley']"
   ]
  },
  {
   "cell_type": "code",
   "execution_count": 4,
   "id": "90ffa3cc-8ddb-42a0-9734-a3b2aac858e9",
   "metadata": {},
   "outputs": [
    {
     "data": {
      "text/plain": [
       "False"
      ]
     },
     "execution_count": 4,
     "metadata": {},
     "output_type": "execute_result"
    }
   ],
   "source": [
    "'potato' in flowers"
   ]
  },
  {
   "cell_type": "code",
   "execution_count": 9,
   "id": "c1701669-1852-4533-8293-4294bd00143d",
   "metadata": {},
   "outputs": [],
   "source": [
    "thorny=flowers[0:3]"
   ]
  },
  {
   "cell_type": "code",
   "execution_count": 10,
   "id": "b1957ed6-f3aa-4210-86c3-ff3b04ba3233",
   "metadata": {},
   "outputs": [],
   "source": [
    "poisonous=flowers[-1:]"
   ]
  },
  {
   "cell_type": "code",
   "execution_count": 11,
   "id": "acdc1805-aa02-41ae-b627-5e2ed7bb0601",
   "metadata": {},
   "outputs": [],
   "source": [
    "dangerous=thorny+poisonous"
   ]
  },
  {
   "cell_type": "markdown",
   "id": "a6f1b7ae-8efb-4c7c-81cf-711dd6207649",
   "metadata": {},
   "source": [
    "#2.19"
   ]
  },
  {
   "cell_type": "code",
   "execution_count": 14,
   "id": "f43acdcc-5735-41a3-8709-156504867ff1",
   "metadata": {},
   "outputs": [],
   "source": [
    "answers = ['Y', 'N', 'N', 'Y', 'N', 'Y', 'Y', 'Y', 'N', 'N', 'N']"
   ]
  },
  {
   "cell_type": "code",
   "execution_count": 15,
   "id": "019417f6-7c0c-4236-98a4-7adedb54f606",
   "metadata": {},
   "outputs": [],
   "source": [
    "numYes=answers.count('Y')"
   ]
  },
  {
   "cell_type": "code",
   "execution_count": 16,
   "id": "42f9a1b1-aada-48f9-8cce-8bfe96b275b6",
   "metadata": {},
   "outputs": [],
   "source": [
    "numNo=answers.count('N')"
   ]
  },
  {
   "cell_type": "code",
   "execution_count": 17,
   "id": "533d563c-ec04-4480-a506-8e6d9dd1c7f4",
   "metadata": {},
   "outputs": [],
   "source": [
    "percentYes=numYes/len(answers)"
   ]
  },
  {
   "cell_type": "code",
   "execution_count": 21,
   "id": "2dc3bedb-eb12-4749-9936-337e594f2e8b",
   "metadata": {},
   "outputs": [],
   "source": [
    "answers.sort()"
   ]
  },
  {
   "cell_type": "code",
   "execution_count": null,
   "id": "cd020c9b-8e66-4271-9f77-28eb6a949dcd",
   "metadata": {},
   "outputs": [],
   "source": [
    "answers.index('Y')"
   ]
  },
  {
   "cell_type": "markdown",
   "id": "2184e78a-0d99-48b3-88c1-4fce68dfb3f1",
   "metadata": {},
   "source": [
    "#2.20"
   ]
  },
  {
   "cell_type": "code",
   "execution_count": 26,
   "id": "c8109ec9-4eaf-4b9b-8674-0c61e8964ab1",
   "metadata": {},
   "outputs": [],
   "source": [
    "s='top'"
   ]
  },
  {
   "cell_type": "code",
   "execution_count": 33,
   "id": "63ce9e58-9462-434a-84ff-cee098bb8d25",
   "metadata": {},
   "outputs": [],
   "source": [
    "s2=s[::-1]"
   ]
  },
  {
   "cell_type": "markdown",
   "id": "59b2fd48-79ec-464b-abf9-21b2faadcf54",
   "metadata": {},
   "source": [
    "#2.21"
   ]
  },
  {
   "cell_type": "code",
   "execution_count": 35,
   "id": "1714f7f2-8cd5-43d0-90cf-2792fba7267f",
   "metadata": {},
   "outputs": [],
   "source": [
    "s='Ljubomir'"
   ]
  },
  {
   "cell_type": "code",
   "execution_count": 36,
   "id": "26daf715-a3d7-4eef-b703-c07f3458fc84",
   "metadata": {},
   "outputs": [],
   "source": [
    "t='Perkovic'"
   ]
  },
  {
   "cell_type": "code",
   "execution_count": 38,
   "id": "fa13dea6-d925-46b0-ab3d-a230a9c21094",
   "metadata": {},
   "outputs": [
    {
     "data": {
      "text/plain": [
       "'LP'"
      ]
     },
     "execution_count": 38,
     "metadata": {},
     "output_type": "execute_result"
    }
   ],
   "source": [
    "s[0]+t[0]"
   ]
  },
  {
   "cell_type": "markdown",
   "id": "8c761856-dcd7-40d1-a879-8b2f5befdb50",
   "metadata": {},
   "source": [
    "#2.22"
   ]
  },
  {
   "cell_type": "code",
   "execution_count": 40,
   "id": "c9c0ac6f-8779-4ffc-91dc-102e394ed2e9",
   "metadata": {},
   "outputs": [],
   "source": [
    "lst=[3,7,-2,12]"
   ]
  },
  {
   "cell_type": "code",
   "execution_count": 42,
   "id": "2c82ca6c-8311-444b-9a2f-995c6980ea3b",
   "metadata": {},
   "outputs": [
    {
     "data": {
      "text/plain": [
       "14"
      ]
     },
     "execution_count": 42,
     "metadata": {},
     "output_type": "execute_result"
    }
   ],
   "source": [
    "max(lst)-min(lst)"
   ]
  },
  {
   "cell_type": "markdown",
   "id": "f60705f1-22e9-4e1d-bd3c-cf784e11827e",
   "metadata": {},
   "source": [
    "#2.23"
   ]
  },
  {
   "cell_type": "code",
   "execution_count": 43,
   "id": "e088d6b1-c63a-44c8-91c2-cb454a9c74d6",
   "metadata": {},
   "outputs": [],
   "source": [
    "monthsL=['Jan','Feb','Mar','May']"
   ]
  },
  {
   "cell_type": "code",
   "execution_count": 45,
   "id": "6ba5159d-bf58-48e3-ab13-a9996a94976b",
   "metadata": {},
   "outputs": [],
   "source": [
    "monthsT=('Jan','Feb','Mar','May')"
   ]
  },
  {
   "cell_type": "code",
   "execution_count": 50,
   "id": "4c12808f-b874-4468-86e0-eb9323101c14",
   "metadata": {},
   "outputs": [],
   "source": [
    "monthsL.insert(3,'Apr')"
   ]
  },
  {
   "cell_type": "code",
   "execution_count": 52,
   "id": "315dae14-7b25-4e82-ba43-02bd7131f755",
   "metadata": {},
   "outputs": [
    {
     "ename": "AttributeError",
     "evalue": "'tuple' object has no attribute 'insert'",
     "output_type": "error",
     "traceback": [
      "\u001b[31m---------------------------------------------------------------------------\u001b[39m",
      "\u001b[31mAttributeError\u001b[39m                            Traceback (most recent call last)",
      "\u001b[36mCell\u001b[39m\u001b[36m \u001b[39m\u001b[32mIn[52]\u001b[39m\u001b[32m, line 1\u001b[39m\n\u001b[32m----> \u001b[39m\u001b[32m1\u001b[39m \u001b[43mmonthsT\u001b[49m\u001b[43m.\u001b[49m\u001b[43minsert\u001b[49m(\u001b[32m3\u001b[39m,\u001b[33m'\u001b[39m\u001b[33mApr\u001b[39m\u001b[33m'\u001b[39m)\n",
      "\u001b[31mAttributeError\u001b[39m: 'tuple' object has no attribute 'insert'"
     ]
    }
   ],
   "source": [
    "monthsT.insert(3,'Apr')"
   ]
  },
  {
   "cell_type": "code",
   "execution_count": 53,
   "id": "68d309cd-975c-49b6-b21f-2441de34c520",
   "metadata": {},
   "outputs": [],
   "source": [
    "monthsL.append('Jun')"
   ]
  },
  {
   "cell_type": "code",
   "execution_count": 54,
   "id": "d34c1ed1-0913-48e7-b532-92e29d4b0607",
   "metadata": {},
   "outputs": [
    {
     "ename": "AttributeError",
     "evalue": "'tuple' object has no attribute 'append'",
     "output_type": "error",
     "traceback": [
      "\u001b[31m---------------------------------------------------------------------------\u001b[39m",
      "\u001b[31mAttributeError\u001b[39m                            Traceback (most recent call last)",
      "\u001b[36mCell\u001b[39m\u001b[36m \u001b[39m\u001b[32mIn[54]\u001b[39m\u001b[32m, line 1\u001b[39m\n\u001b[32m----> \u001b[39m\u001b[32m1\u001b[39m \u001b[43mmonthsT\u001b[49m\u001b[43m.\u001b[49m\u001b[43mappend\u001b[49m(\u001b[33m'\u001b[39m\u001b[33mJun\u001b[39m\u001b[33m'\u001b[39m)\n",
      "\u001b[31mAttributeError\u001b[39m: 'tuple' object has no attribute 'append'"
     ]
    }
   ],
   "source": [
    "monthsT.append('Jun')"
   ]
  },
  {
   "cell_type": "code",
   "execution_count": 55,
   "id": "3bfd55cd-34b7-4539-8996-4fdffcdfcd9f",
   "metadata": {},
   "outputs": [
    {
     "data": {
      "text/plain": [
       "'Jun'"
      ]
     },
     "execution_count": 55,
     "metadata": {},
     "output_type": "execute_result"
    }
   ],
   "source": [
    "monthsL.pop(-1)"
   ]
  },
  {
   "cell_type": "code",
   "execution_count": 57,
   "id": "b51be3ed-316e-4866-853d-d400f3265c53",
   "metadata": {},
   "outputs": [
    {
     "ename": "AttributeError",
     "evalue": "'tuple' object has no attribute 'pop'",
     "output_type": "error",
     "traceback": [
      "\u001b[31m---------------------------------------------------------------------------\u001b[39m",
      "\u001b[31mAttributeError\u001b[39m                            Traceback (most recent call last)",
      "\u001b[36mCell\u001b[39m\u001b[36m \u001b[39m\u001b[32mIn[57]\u001b[39m\u001b[32m, line 1\u001b[39m\n\u001b[32m----> \u001b[39m\u001b[32m1\u001b[39m \u001b[43mmonthsT\u001b[49m\u001b[43m.\u001b[49m\u001b[43mpop\u001b[49m(-\u001b[32m1\u001b[39m)\n",
      "\u001b[31mAttributeError\u001b[39m: 'tuple' object has no attribute 'pop'"
     ]
    }
   ],
   "source": [
    "monthsT.pop(-1)"
   ]
  },
  {
   "cell_type": "code",
   "execution_count": 58,
   "id": "2ce0d8df-51e5-4fc6-a4af-7b93c868d8e2",
   "metadata": {},
   "outputs": [
    {
     "data": {
      "text/plain": [
       "'Feb'"
      ]
     },
     "execution_count": 58,
     "metadata": {},
     "output_type": "execute_result"
    }
   ],
   "source": [
    "monthsL.pop(1)"
   ]
  },
  {
   "cell_type": "code",
   "execution_count": 59,
   "id": "03c7fcd8-a480-46b3-93f1-4f5c354cef0b",
   "metadata": {},
   "outputs": [
    {
     "ename": "AttributeError",
     "evalue": "'tuple' object has no attribute 'pop'",
     "output_type": "error",
     "traceback": [
      "\u001b[31m---------------------------------------------------------------------------\u001b[39m",
      "\u001b[31mAttributeError\u001b[39m                            Traceback (most recent call last)",
      "\u001b[36mCell\u001b[39m\u001b[36m \u001b[39m\u001b[32mIn[59]\u001b[39m\u001b[32m, line 1\u001b[39m\n\u001b[32m----> \u001b[39m\u001b[32m1\u001b[39m \u001b[43mmonthsT\u001b[49m\u001b[43m.\u001b[49m\u001b[43mpop\u001b[49m(\u001b[32m1\u001b[39m)\n",
      "\u001b[31mAttributeError\u001b[39m: 'tuple' object has no attribute 'pop'"
     ]
    }
   ],
   "source": [
    "monthsT.pop(1)"
   ]
  },
  {
   "cell_type": "code",
   "execution_count": 60,
   "id": "f4a2460c-bf33-4bdc-9677-723b78722c6c",
   "metadata": {},
   "outputs": [],
   "source": [
    "monthsL.reverse()"
   ]
  },
  {
   "cell_type": "code",
   "execution_count": 63,
   "id": "b3191315-0986-41a8-8b95-ffdec0cdd663",
   "metadata": {},
   "outputs": [
    {
     "ename": "AttributeError",
     "evalue": "'tuple' object has no attribute 'reverse'",
     "output_type": "error",
     "traceback": [
      "\u001b[31m---------------------------------------------------------------------------\u001b[39m",
      "\u001b[31mAttributeError\u001b[39m                            Traceback (most recent call last)",
      "\u001b[36mCell\u001b[39m\u001b[36m \u001b[39m\u001b[32mIn[63]\u001b[39m\u001b[32m, line 1\u001b[39m\n\u001b[32m----> \u001b[39m\u001b[32m1\u001b[39m \u001b[43mmonthsT\u001b[49m\u001b[43m.\u001b[49m\u001b[43mreverse\u001b[49m()\n",
      "\u001b[31mAttributeError\u001b[39m: 'tuple' object has no attribute 'reverse'"
     ]
    }
   ],
   "source": [
    "monthsT.reverse()"
   ]
  },
  {
   "cell_type": "code",
   "execution_count": 64,
   "id": "20e27742-f4ae-4203-bb2e-72746e4b74f3",
   "metadata": {},
   "outputs": [],
   "source": [
    "monthsL.sort()"
   ]
  },
  {
   "cell_type": "code",
   "execution_count": 65,
   "id": "a3b46952-5897-4266-968a-0c0f4d33062b",
   "metadata": {},
   "outputs": [
    {
     "ename": "AttributeError",
     "evalue": "'tuple' object has no attribute 'sort'",
     "output_type": "error",
     "traceback": [
      "\u001b[31m---------------------------------------------------------------------------\u001b[39m",
      "\u001b[31mAttributeError\u001b[39m                            Traceback (most recent call last)",
      "\u001b[36mCell\u001b[39m\u001b[36m \u001b[39m\u001b[32mIn[65]\u001b[39m\u001b[32m, line 1\u001b[39m\n\u001b[32m----> \u001b[39m\u001b[32m1\u001b[39m \u001b[43mmonthsT\u001b[49m\u001b[43m.\u001b[49m\u001b[43msort\u001b[49m()\n",
      "\u001b[31mAttributeError\u001b[39m: 'tuple' object has no attribute 'sort'"
     ]
    }
   ],
   "source": [
    "monthsT.sort()"
   ]
  },
  {
   "cell_type": "markdown",
   "id": "9c8926c1-24e0-46b6-96a6-7f06be153787",
   "metadata": {},
   "source": [
    "#2.24"
   ]
  },
  {
   "cell_type": "code",
   "execution_count": 66,
   "id": "7fefa589-27d0-42c0-83a4-8d47268e5431",
   "metadata": {},
   "outputs": [],
   "source": [
    "grades = ['B','B','F','C','B','A','A','D','C','D','A','A','B']"
   ]
  },
  {
   "cell_type": "code",
   "execution_count": 71,
   "id": "87e6ddbc-ab3a-41c2-8a16-9189b5480731",
   "metadata": {},
   "outputs": [],
   "source": [
    "count=[grades.count('A'),grades.count('B'),grades.count('C'),grades.count('D'),grades.count('F')]"
   ]
  },
  {
   "cell_type": "code",
   "execution_count": 72,
   "id": "def5a055-099f-4338-b924-293fbc3d11af",
   "metadata": {},
   "outputs": [
    {
     "data": {
      "text/plain": [
       "[4, 4, 2, 2, 1]"
      ]
     },
     "execution_count": 72,
     "metadata": {},
     "output_type": "execute_result"
    }
   ],
   "source": [
    "count"
   ]
  },
  {
   "cell_type": "markdown",
   "id": "7eafc176-a032-4444-9fb3-b4209715fa2a",
   "metadata": {},
   "source": [
    "#2.25"
   ]
  },
  {
   "cell_type": "code",
   "execution_count": 73,
   "id": "7be0f829-3ec0-42ef-b7b8-8204ca10a038",
   "metadata": {},
   "outputs": [],
   "source": [
    "grades = ('B','B','F','C','B','A','A','D','C','D','A','A','B')"
   ]
  },
  {
   "cell_type": "code",
   "execution_count": 74,
   "id": "4613ac01-dbd9-4f15-a457-6c0ebae8bf9d",
   "metadata": {},
   "outputs": [],
   "source": [
    "count=[grades.count('A'),grades.count('B'),grades.count('C'),grades.count('D'),grades.count('F')]"
   ]
  },
  {
   "cell_type": "code",
   "execution_count": 75,
   "id": "33f962c7-8a49-4a52-9b03-d8bcfd5ebcfd",
   "metadata": {},
   "outputs": [
    {
     "data": {
      "text/plain": [
       "[4, 4, 2, 2, 1]"
      ]
     },
     "execution_count": 75,
     "metadata": {},
     "output_type": "execute_result"
    }
   ],
   "source": [
    "count"
   ]
  },
  {
   "cell_type": "markdown",
   "id": "4b8eb343-d891-4ac2-8b63-fd1794260146",
   "metadata": {},
   "source": [
    "#2.26"
   ]
  },
  {
   "cell_type": "code",
   "execution_count": 77,
   "id": "e2e0cc13-2646-4d8e-9dda-05fbf6691671",
   "metadata": {},
   "outputs": [],
   "source": [
    "cor=[0,0]"
   ]
  },
  {
   "cell_type": "code",
   "execution_count": 78,
   "id": "5aa8ca2c-b61c-470a-a26b-45be28db3b4b",
   "metadata": {},
   "outputs": [
    {
     "data": {
      "text/plain": [
       "True"
      ]
     },
     "execution_count": 78,
     "metadata": {},
     "output_type": "execute_result"
    }
   ],
   "source": [
    "cor[0]**2+cor[1]**2<100"
   ]
  },
  {
   "cell_type": "code",
   "execution_count": 79,
   "id": "fb6a0ee8-aa0e-4fbf-9212-daaa7b1f690f",
   "metadata": {},
   "outputs": [],
   "source": [
    "cor=[10,10]"
   ]
  },
  {
   "cell_type": "code",
   "execution_count": 80,
   "id": "97770079-891c-4af8-821f-22cbb5fd8e51",
   "metadata": {},
   "outputs": [
    {
     "data": {
      "text/plain": [
       "False"
      ]
     },
     "execution_count": 80,
     "metadata": {},
     "output_type": "execute_result"
    }
   ],
   "source": [
    "cor[0]**2+cor[1]**2<100"
   ]
  },
  {
   "cell_type": "code",
   "execution_count": 81,
   "id": "861ef603-156f-446c-ba84-bd1acb804519",
   "metadata": {},
   "outputs": [],
   "source": [
    "cor=[6,-6]"
   ]
  },
  {
   "cell_type": "code",
   "execution_count": 82,
   "id": "28a8f9dc-9960-4f3b-b33d-7a541baeada7",
   "metadata": {},
   "outputs": [
    {
     "data": {
      "text/plain": [
       "True"
      ]
     },
     "execution_count": 82,
     "metadata": {},
     "output_type": "execute_result"
    }
   ],
   "source": [
    "cor[0]**2+cor[1]**2<100"
   ]
  },
  {
   "cell_type": "code",
   "execution_count": 83,
   "id": "dde4f632-3951-445b-9b81-dd07856abf05",
   "metadata": {},
   "outputs": [],
   "source": [
    "cor=[-7,8]"
   ]
  },
  {
   "cell_type": "code",
   "execution_count": 84,
   "id": "494fa7dc-e93c-4570-815e-8ff744562ef7",
   "metadata": {},
   "outputs": [
    {
     "data": {
      "text/plain": [
       "False"
      ]
     },
     "execution_count": 84,
     "metadata": {},
     "output_type": "execute_result"
    }
   ],
   "source": [
    "cor[0]**2+cor[1]**2<100"
   ]
  },
  {
   "cell_type": "markdown",
   "id": "75eb579e-dd50-40b2-9e49-64de36ded504",
   "metadata": {},
   "source": [
    "#2.27"
   ]
  },
  {
   "cell_type": "code",
   "execution_count": 94,
   "id": "88c7d7de-8f59-4f84-ad5f-ce508ca68f19",
   "metadata": {},
   "outputs": [],
   "source": [
    "import math"
   ]
  },
  {
   "cell_type": "code",
   "execution_count": 102,
   "id": "f9b01696-cdc3-4195-858f-ec71786e4417",
   "metadata": {},
   "outputs": [
    {
     "name": "stdout",
     "output_type": "stream",
     "text": [
      "15.454813220625093\n"
     ]
    }
   ],
   "source": [
    "lennang=[16,75]\n",
    "height=lennang[0]*math.sin(math.pi*lennang[1]/180)\n",
    "print(height)"
   ]
  },
  {
   "cell_type": "code",
   "execution_count": 103,
   "id": "2ccfa61c-af21-4169-a1b8-67ada5b847b0",
   "metadata": {},
   "outputs": [
    {
     "name": "stdout",
     "output_type": "stream",
     "text": [
      "0.0\n"
     ]
    }
   ],
   "source": [
    "lennang=[20,0]\n",
    "height=lennang[0]*math.sin(math.pi*lennang[1]/180)\n",
    "print(height)"
   ]
  },
  {
   "cell_type": "code",
   "execution_count": 104,
   "id": "cd44af22-4f69-42b8-8f96-68c7d27640ed",
   "metadata": {},
   "outputs": [
    {
     "name": "stdout",
     "output_type": "stream",
     "text": [
      "16.970562748477143\n"
     ]
    }
   ],
   "source": [
    "lennang=[24,45]\n",
    "height=lennang[0]*math.sin(math.pi*lennang[1]/180)\n",
    "print(height)"
   ]
  },
  {
   "cell_type": "code",
   "execution_count": 105,
   "id": "71685daf-6c1e-4d3c-a645-2afd882e9e13",
   "metadata": {},
   "outputs": [
    {
     "name": "stdout",
     "output_type": "stream",
     "text": [
      "23.63538607229299\n"
     ]
    }
   ],
   "source": [
    "lennang=[24,80]\n",
    "height=lennang[0]*math.sin(math.pi*lennang[1]/180)\n",
    "print(height)"
   ]
  },
  {
   "cell_type": "markdown",
   "id": "5a9ea5e0-7d27-4b91-9ca3-d3ee65f086c0",
   "metadata": {},
   "source": [
    "#2.28"
   ]
  },
  {
   "cell_type": "code",
   "execution_count": 136,
   "id": "48c89bf7-f4bd-485a-afe5-cb07a374fd51",
   "metadata": {},
   "outputs": [
    {
     "name": "stdout",
     "output_type": "stream",
     "text": [
      "2\n",
      "20\n"
     ]
    }
   ],
   "source": [
    "lst=[10,30,20,40]\n",
    "print(len(lst)//2)\n",
    "print(lst[len(lst)//2])\n",
    "lst.sort()\n",
    "lst.reverse()\n",
    "lst.append(lst.pop(0))"
   ]
  },
  {
   "cell_type": "code",
   "execution_count": 137,
   "id": "abbba0ca-2f84-41b4-b675-874c32b18003",
   "metadata": {},
   "outputs": [
    {
     "data": {
      "text/plain": [
       "[30, 20, 10, 40]"
      ]
     },
     "execution_count": 137,
     "metadata": {},
     "output_type": "execute_result"
    }
   ],
   "source": []
  },
  {
   "cell_type": "markdown",
   "id": "ebbe2d87-2374-45fc-9061-70881bf57218",
   "metadata": {},
   "source": [
    "#2.29"
   ]
  },
  {
   "cell_type": "code",
   "execution_count": 85,
   "id": "88df8db4-5ae2-4fe6-98e5-bdb30a2e2328",
   "metadata": {},
   "outputs": [
    {
     "data": {
      "text/plain": [
       "True"
      ]
     },
     "execution_count": 85,
     "metadata": {},
     "output_type": "execute_result"
    }
   ],
   "source": [
    "0==(1==2)"
   ]
  },
  {
   "cell_type": "code",
   "execution_count": 86,
   "id": "9098804c-541a-4cd2-84b1-74b2bd4e4765",
   "metadata": {},
   "outputs": [
    {
     "data": {
      "text/plain": [
       "True"
      ]
     },
     "execution_count": 86,
     "metadata": {},
     "output_type": "execute_result"
    }
   ],
   "source": [
    "2+(3==4)+5==7"
   ]
  },
  {
   "cell_type": "code",
   "execution_count": 88,
   "id": "3fe694da-2458-4932-b532-f01167ad6d53",
   "metadata": {},
   "outputs": [
    {
     "data": {
      "text/plain": [
       "True"
      ]
     },
     "execution_count": 88,
     "metadata": {},
     "output_type": "execute_result"
    }
   ],
   "source": [
    "(1<-1)==(3>4)"
   ]
  },
  {
   "cell_type": "markdown",
   "id": "034b25ab-14ec-4552-a917-3f030458a9d3",
   "metadata": {},
   "source": [
    "#2.30"
   ]
  },
  {
   "cell_type": "code",
   "execution_count": 118,
   "id": "74b96717-d675-4870-b792-e6ba691c60b7",
   "metadata": {},
   "outputs": [
    {
     "name": "stdout",
     "output_type": "stream",
     "text": [
      "['apple', ' tree']\n"
     ]
    }
   ],
   "source": [
    "str='apple tree'\n",
    "lst=[str[0:str.index(' ')],str[str.index(' '):]]\n",
    "print(lst)"
   ]
  },
  {
   "cell_type": "code",
   "execution_count": null,
   "id": "c0262020-8b08-4a87-8731-15ebe91414f2",
   "metadata": {},
   "outputs": [],
   "source": []
  }
 ],
 "metadata": {
  "kernelspec": {
   "display_name": "Python 3 (ipykernel)",
   "language": "python",
   "name": "python3"
  },
  "language_info": {
   "codemirror_mode": {
    "name": "ipython",
    "version": 3
   },
   "file_extension": ".py",
   "mimetype": "text/x-python",
   "name": "python",
   "nbconvert_exporter": "python",
   "pygments_lexer": "ipython3",
   "version": "3.13.5"
  }
 },
 "nbformat": 4,
 "nbformat_minor": 5
}
